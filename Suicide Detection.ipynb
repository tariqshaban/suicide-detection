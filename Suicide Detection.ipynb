{
 "cells": [
  {
   "cell_type": "markdown",
   "metadata": {},
   "source": [
    "<a href=\"https://colab.research.google.com/github/tariqshaban/suicide-detection/blob/master/Suicide%20Detection.ipynb\" target=\"_parent\"><img src=\"https://colab.research.google.com/assets/colab-badge.svg\" alt=\"Open In Colab\"/></a>"
   ]
  },
  {
   "cell_type": "markdown",
   "metadata": {},
   "source": [
    "# Importing Dependencies"
   ]
  },
  {
   "cell_type": "code",
   "execution_count": 1,
   "metadata": {
    "id": "6pIgCH7FCX5a"
   },
   "outputs": [
    {
     "name": "stdout",
     "output_type": "stream",
     "text": [
      "\u001b[32m✓ Successfully downloaded dependencies.\n",
      "\u001b[0m\n"
     ]
    }
   ],
   "source": [
    "# Display generic output messages\n",
    "!pip install colorama\n",
    "\n",
    "# Huggingface related libraries\n",
    "!pip install transformers datasets evaluate\n",
    "\n",
    "# Download assets from the GitHub repository\n",
    "!apt install subversion\n",
    "!svn checkout https://github.com/tariqshaban/suicide-detection/trunk/assets\n",
    "\n",
    "import json\n",
    "import evaluate\n",
    "import matplotlib.pyplot as plt\n",
    "import numpy as np\n",
    "import os\n",
    "import pandas as pd\n",
    "import seaborn as sns\n",
    "import urllib\n",
    "import tensorflow as tf\n",
    "\n",
    "from colorama import Fore, Back, Style\n",
    "\n",
    "from datasets import Dataset\n",
    "from datasets import DatasetDict\n",
    "from datasets import load_dataset\n",
    "\n",
    "from IPython.display import Image, display, clear_output\n",
    "\n",
    "from sklearn.metrics import confusion_matrix\n",
    "\n",
    "from tensorflow.keras.callbacks import History, EarlyStopping\n",
    "\n",
    "from transformers import AutoTokenizer\n",
    "from transformers import create_optimizer\n",
    "from transformers import DataCollatorWithPadding\n",
    "from transformers import pipeline\n",
    "from transformers import TFAutoModelForSequenceClassification\n",
    "from transformers.keras_callbacks import KerasMetricCallback\n",
    "\n",
    "from typing import Dict\n",
    "\n",
    "\n",
    "# Acquire the dataset from its LFS source\n",
    "\n",
    "# Obtain LFS file metadata\n",
    "with open('assets/dataset/Suicide_Detection.csv') as file:\n",
    "    lines = [line.rstrip() for line in file]\n",
    "sha = lines[1][lines[1].index(':')+1:]\n",
    "size = lines[2][lines[2].index(' ')+1:]\n",
    "\n",
    "# Acquire direct download link\n",
    "payload =  f'''\n",
    "{{\n",
    "    \"operation\": \"download\", \n",
    "    \"transfer\": [\"basic\"], \n",
    "    \"objects\": [\n",
    "        {{\"oid\": \"{sha}\", \"size\": {size}}}\n",
    "    ]\n",
    "}}\n",
    "'''\n",
    "curl = f'''\n",
    "curl -X POST \\\n",
    "-H 'Accept: application/vnd.git-lfs+json' \\\n",
    "-H 'Content-type: application/json' \\\n",
    "-d '{payload}' \\\n",
    "https://github.com/tariqshaban/suicide-detection.git/info/lfs/objects/batch\n",
    "'''\n",
    "response = json.loads(os.popen(curl).read())\n",
    "file_url = response['objects'][0]['actions']['download']['href']\n",
    "\n",
    "# Replace LFS metadata with the actual file\n",
    "!rm assets/dataset/Suicide_Detection.csv\n",
    "urllib.request.urlretrieve(file_url, 'assets/dataset/Suicide_Detection.csv')\n",
    "\n",
    "\n",
    "clear_output()\n",
    "print(Fore.GREEN + u'\\u2713 ' + 'Successfully downloaded dependencies.')    \n",
    "print(Style.RESET_ALL)"
   ]
  },
  {
   "cell_type": "markdown",
   "metadata": {},
   "source": [
    "# Defining Constants"
   ]
  },
  {
   "cell_type": "code",
   "execution_count": 2,
   "metadata": {
    "id": "92eELSx3D1n2"
   },
   "outputs": [],
   "source": [
    "DATASET_FILENAME = './assets/dataset/Suicide_Detection.csv'\n",
    "PLOTS_OUTPUT = './assets/output/images'\n",
    "MODEL_OUTPUT = './assets/output/model'\n",
    "\n",
    "ID2LABEL = {0: 'non-suicide', 1: 'suicide'}\n",
    "LABEL2ID = {'non-suicide': 0, 'suicide': 1}\n",
    "\n",
    "LABELS = list(LABEL2ID.keys())\n",
    "\n",
    "SAMPLE_FRACTION = 1\n",
    "\n",
    "VALIDATION_SIZE = 0.01\n",
    "TEST_SIZE = 0.005\n",
    "\n",
    "BATCH_SIZE = 2\n",
    "EPOCHS = 300\n",
    "EARLY_STOPPING_PATIENCE = 30\n",
    "EARLY_STOPPING_MIN_DELTA = 0.001"
   ]
  },
  {
   "cell_type": "markdown",
   "metadata": {},
   "source": [
    "# Helper Methods"
   ]
  },
  {
   "cell_type": "markdown",
   "metadata": {},
   "source": [
    "### Get Tokenizor"
   ]
  },
  {
   "cell_type": "code",
   "execution_count": 3,
   "metadata": {},
   "outputs": [],
   "source": [
    "def get_tokenizer() -> any:\n",
    "    \"\"\"\n",
    "    Fetches the distilbert-base-uncased tokenizer.\n",
    "\n",
    "    :return: The tokenizer\n",
    "    \"\"\"\n",
    "\n",
    "    tokenizer = AutoTokenizer.from_pretrained('distilbert-base-uncased')\n",
    "    return tokenizer"
   ]
  },
  {
   "cell_type": "markdown",
   "metadata": {},
   "source": [
    "### Get Pretrained Model"
   ]
  },
  {
   "cell_type": "code",
   "execution_count": 4,
   "metadata": {},
   "outputs": [],
   "source": [
    "def get_pretrained_model() -> any:\n",
    "    \"\"\"\n",
    "    Fetches the distilbert-base-uncased pre-trained model, based on the ID2LABEL and LABEL2ID.\n",
    "\n",
    "    :return: The pre-trained model\n",
    "    \"\"\"\n",
    "\n",
    "    model = TFAutoModelForSequenceClassification.from_pretrained(\n",
    "        'distilbert-base-uncased', num_labels=2, id2label=ID2LABEL, label2id=LABEL2ID\n",
    "    )\n",
    "\n",
    "    return model"
   ]
  },
  {
   "cell_type": "markdown",
   "metadata": {},
   "source": [
    "### Get Trained Model Pipeline"
   ]
  },
  {
   "cell_type": "code",
   "execution_count": 5,
   "metadata": {},
   "outputs": [],
   "source": [
    "def get_trained_pipeline() -> any:\n",
    "    \"\"\"\n",
    "    Returns a pipeline from the trained model; based on the MODEL_OUTPUTD.\n",
    "\n",
    "    :return: The trained model\n",
    "    \"\"\"\n",
    "\n",
    "    trained_pipeline = pipeline('sentiment-analysis', model=MODEL_OUTPUT, tokenizer=MODEL_OUTPUT)\n",
    "\n",
    "    return trained_pipeline"
   ]
  },
  {
   "cell_type": "markdown",
   "metadata": {},
   "source": [
    "### Prime Dataset"
   ]
  },
  {
   "cell_type": "code",
   "execution_count": 6,
   "metadata": {
    "id": "mxMG_gLXB5om"
   },
   "outputs": [],
   "source": [
    "def prime_dataset(\n",
    "        tokenizer: any,\n",
    ") -> [DatasetDict, pd.DataFrame]:\n",
    "    \"\"\"\n",
    "    Ready the dataset for training.\n",
    "\n",
    "    :param any tokenizer: The tokenizer object\n",
    "    :return: The processed dataset\n",
    "    \"\"\"\n",
    "\n",
    "    def preprocess_function(\n",
    "            examples: any,\n",
    "    ) -> any:\n",
    "        \"\"\"\n",
    "        Converts the label of the dataset to a numerical ID; and tokenizes the text.\n",
    "\n",
    "        :param any examples: The batched examples\n",
    "        :return: The processed examples\n",
    "        \"\"\"\n",
    "\n",
    "        examples['label'] = [LABEL2ID.get(e, e) for e in examples['label']]\n",
    "        return tokenizer(examples['text'], truncation=True)\n",
    "\n",
    "    df = pd.read_csv(DATASET_FILENAME)\n",
    "    df = df.sample(frac=SAMPLE_FRACTION)\n",
    "\n",
    "    df_train_valid = df.sample(frac=1 - TEST_SIZE)\n",
    "    df_test = df.drop(df_train_valid.index)\n",
    "\n",
    "    suicide_detection = Dataset.from_pandas(df_train_valid)\n",
    "\n",
    "    suicide_detection = suicide_detection.rename_column('class', 'label')\n",
    "    suicide_detection = suicide_detection.remove_columns('Unnamed: 0')\n",
    "    suicide_detection = suicide_detection.train_test_split(test_size=VALIDATION_SIZE / (1 - TEST_SIZE))\n",
    "\n",
    "    tokenized_suicide_detection = suicide_detection.map(preprocess_function, batched=True)\n",
    "\n",
    "    return [tokenized_suicide_detection, df_test]"
   ]
  },
  {
   "cell_type": "markdown",
   "metadata": {},
   "source": [
    "### Visualize Model Results"
   ]
  },
  {
   "cell_type": "code",
   "execution_count": 7,
   "metadata": {
    "colab": {
     "base_uri": "https://localhost:8080/",
     "height": 1000
    },
    "id": "MRXyxsc_RmHf",
    "outputId": "98e0ea0d-6a09-4185-8aab-6458762cdc49"
   },
   "outputs": [],
   "source": [
    "def visualize_model(\n",
    "        test_dataset: pd.DataFrame,\n",
    "        fitted_model: History,\n",
    "):\n",
    "    \"\"\"\n",
    "    Display plots based on the trained model.\n",
    "\n",
    "    :param pd.DataFrame test_dataset: The dataset to test on\n",
    "    :param History fitted_model: The trained model\n",
    "    \"\"\"\n",
    "\n",
    "    trained_pipeline = get_trained_pipeline()\n",
    "\n",
    "    plt.plot(fitted_model.history['loss'])\n",
    "    plt.plot(fitted_model.history['val_loss'])\n",
    "    plt.title('Model loss')\n",
    "    plt.ylabel('Loss')\n",
    "    plt.xlabel('Epoch')\n",
    "    plt.legend(['Train', 'Valid'], loc='upper left')\n",
    "    plt.savefig(f'{PLOTS_OUTPUT}/loss_history.png')\n",
    "    plt.show()\n",
    "\n",
    "    y_predict = [prediction['label'] for prediction in\n",
    "                 trained_pipeline(test_dataset['text'].to_list(), truncation=True, max_length=4096)]\n",
    "    y_true = test_dataset['class'].to_list()\n",
    "\n",
    "    ax = sns.heatmap(confusion_matrix(y_true, y_predict, labels=LABELS), annot=True, cmap='Blues', fmt='g')\n",
    "    ax.set_title('Confusion Matrix')\n",
    "    ax.set_xlabel('Predicted Values')\n",
    "    ax.set_ylabel('Actual Values')\n",
    "    ax.xaxis.set_ticklabels(LABELS)\n",
    "    ax.yaxis.set_ticklabels(LABELS)\n",
    "    plt.xticks(rotation=90)\n",
    "    plt.yticks(rotation=0)\n",
    "    plt.savefig(f'{PLOTS_OUTPUT}/confusion_matrix.png')\n",
    "    plt.show()"
   ]
  },
  {
   "cell_type": "markdown",
   "metadata": {},
   "source": [
    "### Train Model"
   ]
  },
  {
   "cell_type": "code",
   "execution_count": 8,
   "metadata": {},
   "outputs": [],
   "source": [
    "def train_model(\n",
    "        tokenizer: any,\n",
    "        tokenized_dataset: DatasetDict,\n",
    "        test_dataset: pd.DataFrame,\n",
    "        visualize: bool = True,\n",
    "        export_model: bool = True,\n",
    "):\n",
    "    \"\"\"\n",
    "    Trains the model.\n",
    "\n",
    "    :param any tokenizer: The embedding's tokenizer\n",
    "    :param DatasetDict tokenized_dataset: The preprocessed training dataset\n",
    "    :param pd.DataFrame test_dataset: The testing dataset\n",
    "    :param bool visualize: Whether to show visualizations or not\n",
    "    :param bool export_model: Whether to export the model or not\n",
    "    \"\"\"\n",
    "\n",
    "    def compute_metrics(\n",
    "        eval_pred: any,\n",
    "    ) -> dict:\n",
    "        \"\"\"\n",
    "        Computes a custom prediction for the training.\n",
    "\n",
    "        :param any eval_pred: An object containing the prediction and actual value\n",
    "        :return: The computed metric for the example\n",
    "        \"\"\"\n",
    "\n",
    "        predictions, labels = eval_pred\n",
    "        predictions = np.argmax(predictions, axis=1)\n",
    "        return accuracy.compute(predictions=predictions, references=labels)\n",
    "\n",
    "    data_collator = DataCollatorWithPadding(tokenizer=tokenizer, return_tensors='tf')\n",
    "\n",
    "    accuracy = evaluate.load('accuracy')\n",
    "\n",
    "    batches_per_epoch = len(tokenized_dataset['train'])\n",
    "    total_train_steps = int(batches_per_epoch * EPOCHS)\n",
    "    optimizer, schedule = create_optimizer(init_lr=2e-5, num_warmup_steps=0, num_train_steps=total_train_steps)\n",
    "\n",
    "    model = get_pretrained_model()\n",
    "\n",
    "    train_set = model.prepare_tf_dataset(\n",
    "        tokenized_dataset['train'],\n",
    "        shuffle=True,\n",
    "        batch_size=BATCH_SIZE,\n",
    "        collate_fn=data_collator,\n",
    "    )\n",
    "\n",
    "    validation_set = model.prepare_tf_dataset(\n",
    "        tokenized_dataset['test'],\n",
    "        shuffle=False,\n",
    "        batch_size=BATCH_SIZE,\n",
    "        collate_fn=data_collator,\n",
    "    )\n",
    "\n",
    "    model.compile(optimizer=optimizer)\n",
    "\n",
    "    es = EarlyStopping(monitor='val_loss', mode='auto', verbose=1, patience=EARLY_STOPPING_PATIENCE, min_delta=EARLY_STOPPING_MIN_DELTA)\n",
    "\n",
    "    metric_callback = KerasMetricCallback(metric_fn=compute_metrics, eval_dataset=validation_set)\n",
    "\n",
    "    callbacks = [es, metric_callback]\n",
    "\n",
    "    fitted_model = model.fit(x=train_set, validation_data=validation_set, epochs=EPOCHS, callbacks=callbacks)\n",
    "\n",
    "    loss = model.evaluate(validation_set)\n",
    "\n",
    "    print(Fore.GREEN + u'\\n\\u2713 ' + f'Loss ==> {loss}')\n",
    "    print(Fore.RESET)\n",
    "\n",
    "    model.summary()\n",
    "\n",
    "    if export_model:\n",
    "        tokenizer.save_pretrained(MODEL_OUTPUT)\n",
    "        model.save_pretrained(MODEL_OUTPUT)\n",
    "\n",
    "    if visualize:\n",
    "        visualize_model(test_dataset=test_dataset, fitted_model=fitted_model)"
   ]
  },
  {
   "cell_type": "markdown",
   "metadata": {},
   "source": [
    "# Methods Invocation"
   ]
  },
  {
   "cell_type": "code",
   "execution_count": 9,
   "metadata": {},
   "outputs": [
    {
     "name": "stderr",
     "output_type": "stream",
     "text": [
      "The syntax of the command is incorrect.\n",
      "The syntax of the command is incorrect.\n"
     ]
    }
   ],
   "source": [
    "!mkdir -p  $PLOTS_OUTPUT\n",
    "!mkdir -p  $MODEL_OUTPUT"
   ]
  },
  {
   "cell_type": "code",
   "execution_count": 10,
   "metadata": {},
   "outputs": [
    {
     "data": {
      "application/json": {
       "ascii": false,
       "bar_format": null,
       "colour": null,
       "elapsed": 0.008005857467651367,
       "initial": 0,
       "n": 0,
       "ncols": null,
       "nrows": 40,
       "postfix": null,
       "prefix": "Map",
       "rate": null,
       "total": 228593,
       "unit": " examples",
       "unit_divisor": 1000,
       "unit_scale": false
      },
      "application/vnd.jupyter.widget-view+json": {
       "model_id": "",
       "version_major": 2,
       "version_minor": 0
      },
      "text/plain": [
       "Map:   0%|          | 0/228593 [00:00<?, ? examples/s]"
      ]
     },
     "metadata": {},
     "output_type": "display_data"
    },
    {
     "data": {
      "application/json": {
       "ascii": false,
       "bar_format": null,
       "colour": null,
       "elapsed": 0.005984783172607422,
       "initial": 0,
       "n": 0,
       "ncols": null,
       "nrows": 40,
       "postfix": null,
       "prefix": "Map",
       "rate": null,
       "total": 2321,
       "unit": " examples",
       "unit_divisor": 1000,
       "unit_scale": false
      },
      "application/vnd.jupyter.widget-view+json": {
       "model_id": "",
       "version_major": 2,
       "version_minor": 0
      },
      "text/plain": [
       "Map:   0%|          | 0/2321 [00:00<?, ? examples/s]"
      ]
     },
     "metadata": {},
     "output_type": "display_data"
    },
    {
     "name": "stderr",
     "output_type": "stream",
     "text": [
      "Some layers from the model checkpoint at distilbert-base-uncased were not used when initializing TFDistilBertForSequenceClassification: ['vocab_transform', 'activation_13', 'vocab_layer_norm', 'vocab_projector']\n",
      "- This IS expected if you are initializing TFDistilBertForSequenceClassification from the checkpoint of a model trained on another task or with another architecture (e.g. initializing a BertForSequenceClassification model from a BertForPreTraining model).\n",
      "- This IS NOT expected if you are initializing TFDistilBertForSequenceClassification from the checkpoint of a model that you expect to be exactly identical (initializing a BertForSequenceClassification model from a BertForSequenceClassification model).\n",
      "Some layers of TFDistilBertForSequenceClassification were not initialized from the model checkpoint at distilbert-base-uncased and are newly initialized: ['classifier', 'pre_classifier', 'dropout_19']\n",
      "You should probably TRAIN this model on a down-stream task to be able to use it for predictions and inference.\n",
      "You're using a DistilBertTokenizerFast tokenizer. Please note that with a fast tokenizer, using the `__call__` method is faster than using a method to encode the text followed by a call to the `pad` method to get a padded encoding.\n",
      "C:\\Users\\G.Tata\\PycharmProjects\\venv\\lib\\site-packages\\datasets\\arrow_dataset.py:388: FutureWarning: The output of `to_tf_dataset` will change when a passing single element list for `labels` or `columns` in the next datasets version. To return a tuple structure rather than dict, pass a single string.\n",
      "Old behaviour: columns=['a'], labels=['labels'] -> (tf.Tensor, tf.Tensor)  \n",
      "             : columns='a', labels='labels' -> (tf.Tensor, tf.Tensor)  \n",
      "New behaviour: columns=['a'],labels=['labels'] -> ({'a': tf.Tensor}, {'labels': tf.Tensor})  \n",
      "             : columns='a', labels='labels' -> (tf.Tensor, tf.Tensor) \n",
      "  warnings.warn(\n",
      "No loss specified in compile() - the model's internal loss computation will be used as the loss. Don't panic - this is a common way to train TensorFlow models in Transformers! To disable this behaviour please pass a loss argument, or explicitly pass `loss=None` if you do not want your model to compute a loss.\n"
     ]
    },
    {
     "name": "stdout",
     "output_type": "stream",
     "text": [
      "Epoch 1/300\n",
      "114296/114296 [==============================] - 11382s 100ms/step - loss: 0.1015 - val_loss: 0.0850 - accuracy: 0.9716\n",
      "Epoch 2/300\n",
      "114296/114296 [==============================] - 10805s 95ms/step - loss: 0.0735 - val_loss: 0.1294 - accuracy: 0.9703\n",
      "Epoch 3/300\n",
      "114296/114296 [==============================] - 9856s 86ms/step - loss: 0.0646 - val_loss: 0.0921 - accuracy: 0.9681\n",
      "Epoch 4/300\n",
      "114296/114296 [==============================] - 10010s 88ms/step - loss: 0.0595 - val_loss: 0.1337 - accuracy: 0.9655\n",
      "Epoch 5/300\n",
      "114296/114296 [==============================] - 9798s 86ms/step - loss: 0.0638 - val_loss: 0.0992 - accuracy: 0.9668\n",
      "Epoch 6/300\n",
      "114296/114296 [==============================] - 9785s 86ms/step - loss: 0.0613 - val_loss: 0.1066 - accuracy: 0.9638\n",
      "Epoch 7/300\n",
      "114296/114296 [==============================] - 9791s 86ms/step - loss: 0.0603 - val_loss: 0.1348 - accuracy: 0.9586\n",
      "Epoch 8/300\n",
      "114296/114296 [==============================] - 9983s 87ms/step - loss: 0.0669 - val_loss: 0.1851 - accuracy: 0.9436\n",
      "Epoch 9/300\n",
      "114296/114296 [==============================] - 11091s 97ms/step - loss: 0.0851 - val_loss: 0.1538 - accuracy: 0.9548\n",
      "Epoch 10/300\n",
      "114296/114296 [==============================] - 11506s 101ms/step - loss: 0.0681 - val_loss: 0.1200 - accuracy: 0.9625\n",
      "Epoch 11/300\n",
      "114296/114296 [==============================] - 10825s 95ms/step - loss: 0.0748 - val_loss: 0.1349 - accuracy: 0.9599\n",
      "Epoch 12/300\n",
      "114296/114296 [==============================] - 10628s 93ms/step - loss: 0.0819 - val_loss: 0.1186 - accuracy: 0.9591\n",
      "Epoch 13/300\n",
      "114296/114296 [==============================] - 10235s 90ms/step - loss: 0.0775 - val_loss: 0.1310 - accuracy: 0.9552\n",
      "Epoch 14/300\n",
      "114296/114296 [==============================] - 9836s 86ms/step - loss: 0.0875 - val_loss: 0.1163 - accuracy: 0.9569\n",
      "Epoch 15/300\n",
      "114296/114296 [==============================] - 9833s 86ms/step - loss: 0.0900 - val_loss: 0.1410 - accuracy: 0.9535\n",
      "Epoch 16/300\n",
      "114296/114296 [==============================] - 10066s 88ms/step - loss: 0.0973 - val_loss: 0.1311 - accuracy: 0.9496\n",
      "Epoch 17/300\n",
      "114296/114296 [==============================] - 10608s 93ms/step - loss: 0.0854 - val_loss: 0.1134 - accuracy: 0.9556\n",
      "Epoch 18/300\n",
      "114296/114296 [==============================] - 10953s 96ms/step - loss: 0.1065 - val_loss: 0.1697 - accuracy: 0.9367\n",
      "Epoch 19/300\n",
      "114296/114296 [==============================] - 12055s 105ms/step - loss: 0.1187 - val_loss: 0.1193 - accuracy: 0.9578\n",
      "Epoch 20/300\n",
      "114296/114296 [==============================] - 11592s 101ms/step - loss: 0.1147 - val_loss: 0.2429 - accuracy: 0.8949\n",
      "Epoch 21/300\n",
      "114296/114296 [==============================] - 10218s 89ms/step - loss: 0.1885 - val_loss: 0.1873 - accuracy: 0.9405\n",
      "Epoch 22/300\n",
      "114296/114296 [==============================] - 9853s 86ms/step - loss: 0.1591 - val_loss: 0.2207 - accuracy: 0.9216\n",
      "Epoch 23/300\n",
      "114296/114296 [==============================] - 9866s 86ms/step - loss: 0.1623 - val_loss: 0.1827 - accuracy: 0.9276\n",
      "Epoch 24/300\n",
      "114296/114296 [==============================] - 9893s 87ms/step - loss: 0.1407 - val_loss: 0.1510 - accuracy: 0.9453\n",
      "Epoch 25/300\n",
      "114296/114296 [==============================] - 9861s 86ms/step - loss: 0.1192 - val_loss: 0.1372 - accuracy: 0.9423\n",
      "Epoch 26/300\n",
      "114296/114296 [==============================] - 9859s 86ms/step - loss: 0.1136 - val_loss: 0.1254 - accuracy: 0.9530\n",
      "Epoch 27/300\n",
      "114296/114296 [==============================] - 9887s 87ms/step - loss: 0.1191 - val_loss: 0.1869 - accuracy: 0.9358\n",
      "Epoch 28/300\n",
      "114296/114296 [==============================] - 10814s 95ms/step - loss: 0.1332 - val_loss: 0.1703 - accuracy: 0.9397\n",
      "Epoch 29/300\n",
      "114296/114296 [==============================] - 11265s 99ms/step - loss: 0.1420 - val_loss: 0.1537 - accuracy: 0.9410\n",
      "Epoch 30/300\n",
      "114296/114296 [==============================] - 9857s 86ms/step - loss: 0.1644 - val_loss: 0.2073 - accuracy: 0.9302\n",
      "Epoch 31/300\n",
      "114296/114296 [==============================] - 9857s 86ms/step - loss: 0.1694 - val_loss: 0.2581 - accuracy: 0.9048\n",
      "Epoch 00031: early stopping\n",
      "1161/1161 [==============================] - 35s 30ms/step - loss: 0.2581\n",
      "\u001b[32m\n",
      "✓ Loss ==> 0.2580904960632324\n",
      "\u001b[39m\n",
      "Model: \"tf_distil_bert_for_sequence_classification\"\n",
      "_________________________________________________________________\n",
      " Layer (type)                Output Shape              Param #   \n",
      "=================================================================\n",
      " distilbert (TFDistilBertMai  multiple                 66362880  \n",
      " nLayer)                                                         \n",
      "                                                                 \n",
      " pre_classifier (Dense)      multiple                  590592    \n",
      "                                                                 \n",
      " classifier (Dense)          multiple                  1538      \n",
      "                                                                 \n",
      " dropout_19 (Dropout)        multiple                  0         \n",
      "                                                                 \n",
      "=================================================================\n",
      "Total params: 66,955,010\n",
      "Trainable params: 66,955,010\n",
      "Non-trainable params: 0\n",
      "_________________________________________________________________\n"
     ]
    },
    {
     "name": "stderr",
     "output_type": "stream",
     "text": [
      "Some layers from the model checkpoint at ./assets/output/model were not used when initializing TFDistilBertForSequenceClassification: ['dropout_19']\n",
      "- This IS expected if you are initializing TFDistilBertForSequenceClassification from the checkpoint of a model trained on another task or with another architecture (e.g. initializing a BertForSequenceClassification model from a BertForPreTraining model).\n",
      "- This IS NOT expected if you are initializing TFDistilBertForSequenceClassification from the checkpoint of a model that you expect to be exactly identical (initializing a BertForSequenceClassification model from a BertForSequenceClassification model).\n",
      "Some layers of TFDistilBertForSequenceClassification were not initialized from the model checkpoint at ./assets/output/model and are newly initialized: ['dropout_39']\n",
      "You should probably TRAIN this model on a down-stream task to be able to use it for predictions and inference.\n"
     ]
    },
    {
     "data": {
      "image/png": "[encoded data removed]",
      "text/plain": [
       "<Figure size 640x480 with 1 Axes>"
      ]
     },
     "metadata": {},
     "output_type": "display_data"
    },
    {
     "data": {
      "image/png": "[encoded data removed]",
      "text/plain": [
       "<Figure size 640x480 with 2 Axes>"
      ]
     },
     "metadata": {},
     "output_type": "display_data"
    }
   ],
   "source": [
    "tokenizer = get_tokenizer()\n",
    "\n",
    "tokenized_dataset, test_dataset = prime_dataset(tokenizer=tokenizer)\n",
    "\n",
    "model = train_model(tokenizer=tokenizer, tokenized_dataset=tokenized_dataset, test_dataset=test_dataset)"
   ]
  },
  {
   "cell_type": "code",
   "execution_count": 11,
   "metadata": {},
   "outputs": [
    {
     "name": "stderr",
     "output_type": "stream",
     "text": [
      "Some layers from the model checkpoint at ./assets/output/model were not used when initializing TFDistilBertForSequenceClassification: ['dropout_19']\n",
      "- This IS expected if you are initializing TFDistilBertForSequenceClassification from the checkpoint of a model trained on another task or with another architecture (e.g. initializing a BertForSequenceClassification model from a BertForPreTraining model).\n",
      "- This IS NOT expected if you are initializing TFDistilBertForSequenceClassification from the checkpoint of a model that you expect to be exactly identical (initializing a BertForSequenceClassification model from a BertForSequenceClassification model).\n",
      "Some layers of TFDistilBertForSequenceClassification were not initialized from the model checkpoint at ./assets/output/model and are newly initialized: ['dropout_59']\n",
      "You should probably TRAIN this model on a down-stream task to be able to use it for predictions and inference.\n"
     ]
    }
   ],
   "source": [
    "trained_pipeline = get_trained_pipeline()"
   ]
  },
  {
   "cell_type": "code",
   "execution_count": 12,
   "metadata": {
    "id": "MqruZf8btxem"
   },
   "outputs": [
    {
     "data": {
      "text/plain": [
       "[{'label': 'non-suicide', 'score': 0.6055302619934082}]"
      ]
     },
     "execution_count": 12,
     "metadata": {},
     "output_type": "execute_result"
    }
   ],
   "source": [
    "text = 'This was a masterpiece. Not completely faithful to the books, but enthralling from beginning to end. Might be my favorite of the three.'\n",
    "trained_pipeline(text, truncation=True, max_length=4096)"
   ]
  },
  {
   "cell_type": "code",
   "execution_count": 13,
   "metadata": {
    "id": "Zujk_9MStyog",
    "scrolled": true
   },
   "outputs": [
    {
     "data": {
      "text/plain": [
       "[{'label': 'suicide', 'score': 0.7709288001060486}]"
      ]
     },
     "execution_count": 13,
     "metadata": {},
     "output_type": "execute_result"
    }
   ],
   "source": [
    "text = 'I am severly depressed'\n",
    "trained_pipeline(text, truncation=True, max_length=4096)"
   ]
  }
 ],
 "metadata": {
  "accelerator": "GPU",
  "colab": {
   "gpuType": "T4",
   "provenance": []
  },
  "gpuClass": "standard",
  "kernelspec": {
   "display_name": "venv",
   "language": "python",
   "name": "venv"
  },
  "language_info": {
   "codemirror_mode": {
    "name": "ipython",
    "version": 3
   },
   "file_extension": ".py",
   "mimetype": "text/x-python",
   "name": "python",
   "nbconvert_exporter": "python",
   "pygments_lexer": "ipython3",
   "version": "3.9.5"
  },
  "widgets": {
   "application/vnd.jupyter.widget-state+json": {
    "06dd61b7120748e8bd4e019b89e1bbd8": {
     "model_module": "@jupyter-widgets/base",
     "model_module_version": "1.2.0",
     "model_name": "LayoutModel",
     "state": {
      "_model_module": "@jupyter-widgets/base",
      "_model_module_version": "1.2.0",
      "_model_name": "LayoutModel",
      "_view_count": null,
      "_view_module": "@jupyter-widgets/base",
      "_view_module_version": "1.2.0",
      "_view_name": "LayoutView",
      "align_content": null,
      "align_items": null,
      "align_self": null,
      "border": null,
      "bottom": null,
      "display": null,
      "flex": null,
      "flex_flow": null,
      "grid_area": null,
      "grid_auto_columns": null,
      "grid_auto_flow": null,
      "grid_auto_rows": null,
      "grid_column": null,
      "grid_gap": null,
      "grid_row": null,
      "grid_template_areas": null,
      "grid_template_columns": null,
      "grid_template_rows": null,
      "height": null,
      "justify_content": null,
      "justify_items": null,
      "left": null,
      "margin": null,
      "max_height": null,
      "max_width": null,
      "min_height": null,
      "min_width": null,
      "object_fit": null,
      "object_position": null,
      "order": null,
      "overflow": null,
      "overflow_x": null,
      "overflow_y": null,
      "padding": null,
      "right": null,
      "top": null,
      "visibility": "hidden",
      "width": null
     }
    },
    "0fab6af844e34779888c8045fc4731f0": {
     "model_module": "@jupyter-widgets/base",
     "model_module_version": "1.2.0",
     "model_name": "LayoutModel",
     "state": {
      "_model_module": "@jupyter-widgets/base",
      "_model_module_version": "1.2.0",
      "_model_name": "LayoutModel",
      "_view_count": null,
      "_view_module": "@jupyter-widgets/base",
      "_view_module_version": "1.2.0",
      "_view_name": "LayoutView",
      "align_content": null,
      "align_items": null,
      "align_self": null,
      "border": null,
      "bottom": null,
      "display": null,
      "flex": null,
      "flex_flow": null,
      "grid_area": null,
      "grid_auto_columns": null,
      "grid_auto_flow": null,
      "grid_auto_rows": null,
      "grid_column": null,
      "grid_gap": null,
      "grid_row": null,
      "grid_template_areas": null,
      "grid_template_columns": null,
      "grid_template_rows": null,
      "height": null,
      "justify_content": null,
      "justify_items": null,
      "left": null,
      "margin": null,
      "max_height": null,
      "max_width": null,
      "min_height": null,
      "min_width": null,
      "object_fit": null,
      "object_position": null,
      "order": null,
      "overflow": null,
      "overflow_x": null,
      "overflow_y": null,
      "padding": null,
      "right": null,
      "top": null,
      "visibility": "hidden",
      "width": null
     }
    },
    "156b446a7df941d2bcfd43d38e41c981": {
     "model_module": "@jupyter-widgets/controls",
     "model_module_version": "1.5.0",
     "model_name": "HTMLModel",
     "state": {
      "_dom_classes": [],
      "_model_module": "@jupyter-widgets/controls",
      "_model_module_version": "1.5.0",
      "_model_name": "HTMLModel",
      "_view_count": null,
      "_view_module": "@jupyter-widgets/controls",
      "_view_module_version": "1.5.0",
      "_view_name": "HTMLView",
      "description": "",
      "description_tooltip": null,
      "layout": "IPY_MODEL_2a6ce3b7424c44e88ebf65fbb7d2cc86",
      "placeholder": "​",
      "style": "IPY_MODEL_f95404b04d4e4e20ab282d6ef6479682",
      "value": " 3248/3248 [00:01&lt;00:00, 1934.00 examples/s]"
     }
    },
    "1b7610d0a7f641df9e2c2aed5d3558d9": {
     "model_module": "@jupyter-widgets/base",
     "model_module_version": "1.2.0",
     "model_name": "LayoutModel",
     "state": {
      "_model_module": "@jupyter-widgets/base",
      "_model_module_version": "1.2.0",
      "_model_name": "LayoutModel",
      "_view_count": null,
      "_view_module": "@jupyter-widgets/base",
      "_view_module_version": "1.2.0",
      "_view_name": "LayoutView",
      "align_content": null,
      "align_items": null,
      "align_self": null,
      "border": null,
      "bottom": null,
      "display": null,
      "flex": null,
      "flex_flow": null,
      "grid_area": null,
      "grid_auto_columns": null,
      "grid_auto_flow": null,
      "grid_auto_rows": null,
      "grid_column": null,
      "grid_gap": null,
      "grid_row": null,
      "grid_template_areas": null,
      "grid_template_columns": null,
      "grid_template_rows": null,
      "height": null,
      "justify_content": null,
      "justify_items": null,
      "left": null,
      "margin": null,
      "max_height": null,
      "max_width": null,
      "min_height": null,
      "min_width": null,
      "object_fit": null,
      "object_position": null,
      "order": null,
      "overflow": null,
      "overflow_x": null,
      "overflow_y": null,
      "padding": null,
      "right": null,
      "top": null,
      "visibility": null,
      "width": null
     }
    },
    "1df51a5893554ffb986c2be24f03bcbb": {
     "model_module": "@jupyter-widgets/base",
     "model_module_version": "1.2.0",
     "model_name": "LayoutModel",
     "state": {
      "_model_module": "@jupyter-widgets/base",
      "_model_module_version": "1.2.0",
      "_model_name": "LayoutModel",
      "_view_count": null,
      "_view_module": "@jupyter-widgets/base",
      "_view_module_version": "1.2.0",
      "_view_name": "LayoutView",
      "align_content": null,
      "align_items": null,
      "align_self": null,
      "border": null,
      "bottom": null,
      "display": null,
      "flex": null,
      "flex_flow": null,
      "grid_area": null,
      "grid_auto_columns": null,
      "grid_auto_flow": null,
      "grid_auto_rows": null,
      "grid_column": null,
      "grid_gap": null,
      "grid_row": null,
      "grid_template_areas": null,
      "grid_template_columns": null,
      "grid_template_rows": null,
      "height": null,
      "justify_content": null,
      "justify_items": null,
      "left": null,
      "margin": null,
      "max_height": null,
      "max_width": null,
      "min_height": null,
      "min_width": null,
      "object_fit": null,
      "object_position": null,
      "order": null,
      "overflow": null,
      "overflow_x": null,
      "overflow_y": null,
      "padding": null,
      "right": null,
      "top": null,
      "visibility": null,
      "width": null
     }
    },
    "2a6ce3b7424c44e88ebf65fbb7d2cc86": {
     "model_module": "@jupyter-widgets/base",
     "model_module_version": "1.2.0",
     "model_name": "LayoutModel",
     "state": {
      "_model_module": "@jupyter-widgets/base",
      "_model_module_version": "1.2.0",
      "_model_name": "LayoutModel",
      "_view_count": null,
      "_view_module": "@jupyter-widgets/base",
      "_view_module_version": "1.2.0",
      "_view_name": "LayoutView",
      "align_content": null,
      "align_items": null,
      "align_self": null,
      "border": null,
      "bottom": null,
      "display": null,
      "flex": null,
      "flex_flow": null,
      "grid_area": null,
      "grid_auto_columns": null,
      "grid_auto_flow": null,
      "grid_auto_rows": null,
      "grid_column": null,
      "grid_gap": null,
      "grid_row": null,
      "grid_template_areas": null,
      "grid_template_columns": null,
      "grid_template_rows": null,
      "height": null,
      "justify_content": null,
      "justify_items": null,
      "left": null,
      "margin": null,
      "max_height": null,
      "max_width": null,
      "min_height": null,
      "min_width": null,
      "object_fit": null,
      "object_position": null,
      "order": null,
      "overflow": null,
      "overflow_x": null,
      "overflow_y": null,
      "padding": null,
      "right": null,
      "top": null,
      "visibility": null,
      "width": null
     }
    },
    "39d393b3a1d94b029c07cdcec7b00273": {
     "model_module": "@jupyter-widgets/controls",
     "model_module_version": "1.5.0",
     "model_name": "HTMLModel",
     "state": {
      "_dom_classes": [],
      "_model_module": "@jupyter-widgets/controls",
      "_model_module_version": "1.5.0",
      "_model_name": "HTMLModel",
      "_view_count": null,
      "_view_module": "@jupyter-widgets/controls",
      "_view_module_version": "1.5.0",
      "_view_name": "HTMLView",
      "description": "",
      "description_tooltip": null,
      "layout": "IPY_MODEL_e77a81c86b5e4e438e7a4a74f3985424",
      "placeholder": "​",
      "style": "IPY_MODEL_c9725eab57c9428d8e3c7783590db05e",
      "value": " 1393/1393 [00:00&lt;00:00, 2044.88 examples/s]"
     }
    },
    "56143bef551b4fd9b8b8c4334ca4fd83": {
     "model_module": "@jupyter-widgets/controls",
     "model_module_version": "1.5.0",
     "model_name": "ProgressStyleModel",
     "state": {
      "_model_module": "@jupyter-widgets/controls",
      "_model_module_version": "1.5.0",
      "_model_name": "ProgressStyleModel",
      "_view_count": null,
      "_view_module": "@jupyter-widgets/base",
      "_view_module_version": "1.2.0",
      "_view_name": "StyleView",
      "bar_color": null,
      "description_width": ""
     }
    },
    "58187ffa8ed64b2f9440d8c345d01d2e": {
     "model_module": "@jupyter-widgets/controls",
     "model_module_version": "1.5.0",
     "model_name": "ProgressStyleModel",
     "state": {
      "_model_module": "@jupyter-widgets/controls",
      "_model_module_version": "1.5.0",
      "_model_name": "ProgressStyleModel",
      "_view_count": null,
      "_view_module": "@jupyter-widgets/base",
      "_view_module_version": "1.2.0",
      "_view_name": "StyleView",
      "bar_color": null,
      "description_width": ""
     }
    },
    "673156ff66764580906659d9406dacf1": {
     "model_module": "@jupyter-widgets/base",
     "model_module_version": "1.2.0",
     "model_name": "LayoutModel",
     "state": {
      "_model_module": "@jupyter-widgets/base",
      "_model_module_version": "1.2.0",
      "_model_name": "LayoutModel",
      "_view_count": null,
      "_view_module": "@jupyter-widgets/base",
      "_view_module_version": "1.2.0",
      "_view_name": "LayoutView",
      "align_content": null,
      "align_items": null,
      "align_self": null,
      "border": null,
      "bottom": null,
      "display": null,
      "flex": null,
      "flex_flow": null,
      "grid_area": null,
      "grid_auto_columns": null,
      "grid_auto_flow": null,
      "grid_auto_rows": null,
      "grid_column": null,
      "grid_gap": null,
      "grid_row": null,
      "grid_template_areas": null,
      "grid_template_columns": null,
      "grid_template_rows": null,
      "height": null,
      "justify_content": null,
      "justify_items": null,
      "left": null,
      "margin": null,
      "max_height": null,
      "max_width": null,
      "min_height": null,
      "min_width": null,
      "object_fit": null,
      "object_position": null,
      "order": null,
      "overflow": null,
      "overflow_x": null,
      "overflow_y": null,
      "padding": null,
      "right": null,
      "top": null,
      "visibility": null,
      "width": null
     }
    },
    "8ab98678a8f4448aa283ab8b1a5a3a38": {
     "model_module": "@jupyter-widgets/controls",
     "model_module_version": "1.5.0",
     "model_name": "FloatProgressModel",
     "state": {
      "_dom_classes": [],
      "_model_module": "@jupyter-widgets/controls",
      "_model_module_version": "1.5.0",
      "_model_name": "FloatProgressModel",
      "_view_count": null,
      "_view_module": "@jupyter-widgets/controls",
      "_view_module_version": "1.5.0",
      "_view_name": "ProgressView",
      "bar_style": "",
      "description": "",
      "description_tooltip": null,
      "layout": "IPY_MODEL_1b7610d0a7f641df9e2c2aed5d3558d9",
      "max": 1393,
      "min": 0,
      "orientation": "horizontal",
      "style": "IPY_MODEL_56143bef551b4fd9b8b8c4334ca4fd83",
      "value": 1393
     }
    },
    "97b153d6570246a7bfe74a982c5375f8": {
     "model_module": "@jupyter-widgets/controls",
     "model_module_version": "1.5.0",
     "model_name": "DescriptionStyleModel",
     "state": {
      "_model_module": "@jupyter-widgets/controls",
      "_model_module_version": "1.5.0",
      "_model_name": "DescriptionStyleModel",
      "_view_count": null,
      "_view_module": "@jupyter-widgets/base",
      "_view_module_version": "1.2.0",
      "_view_name": "StyleView",
      "description_width": ""
     }
    },
    "a50e518f0fb64e518e8b936ed7e3319d": {
     "model_module": "@jupyter-widgets/controls",
     "model_module_version": "1.5.0",
     "model_name": "HTMLModel",
     "state": {
      "_dom_classes": [],
      "_model_module": "@jupyter-widgets/controls",
      "_model_module_version": "1.5.0",
      "_model_name": "HTMLModel",
      "_view_count": null,
      "_view_module": "@jupyter-widgets/controls",
      "_view_module_version": "1.5.0",
      "_view_name": "HTMLView",
      "description": "",
      "description_tooltip": null,
      "layout": "IPY_MODEL_ae3252daecae461083cf9d23eb3ce4a8",
      "placeholder": "​",
      "style": "IPY_MODEL_e0b92d14b36d43179bdd59c625902c43",
      "value": "Map: 100%"
     }
    },
    "ae3252daecae461083cf9d23eb3ce4a8": {
     "model_module": "@jupyter-widgets/base",
     "model_module_version": "1.2.0",
     "model_name": "LayoutModel",
     "state": {
      "_model_module": "@jupyter-widgets/base",
      "_model_module_version": "1.2.0",
      "_model_name": "LayoutModel",
      "_view_count": null,
      "_view_module": "@jupyter-widgets/base",
      "_view_module_version": "1.2.0",
      "_view_name": "LayoutView",
      "align_content": null,
      "align_items": null,
      "align_self": null,
      "border": null,
      "bottom": null,
      "display": null,
      "flex": null,
      "flex_flow": null,
      "grid_area": null,
      "grid_auto_columns": null,
      "grid_auto_flow": null,
      "grid_auto_rows": null,
      "grid_column": null,
      "grid_gap": null,
      "grid_row": null,
      "grid_template_areas": null,
      "grid_template_columns": null,
      "grid_template_rows": null,
      "height": null,
      "justify_content": null,
      "justify_items": null,
      "left": null,
      "margin": null,
      "max_height": null,
      "max_width": null,
      "min_height": null,
      "min_width": null,
      "object_fit": null,
      "object_position": null,
      "order": null,
      "overflow": null,
      "overflow_x": null,
      "overflow_y": null,
      "padding": null,
      "right": null,
      "top": null,
      "visibility": null,
      "width": null
     }
    },
    "aeea1795609946318f9c7c3dec7f2af1": {
     "model_module": "@jupyter-widgets/controls",
     "model_module_version": "1.5.0",
     "model_name": "FloatProgressModel",
     "state": {
      "_dom_classes": [],
      "_model_module": "@jupyter-widgets/controls",
      "_model_module_version": "1.5.0",
      "_model_name": "FloatProgressModel",
      "_view_count": null,
      "_view_module": "@jupyter-widgets/controls",
      "_view_module_version": "1.5.0",
      "_view_name": "ProgressView",
      "bar_style": "",
      "description": "",
      "description_tooltip": null,
      "layout": "IPY_MODEL_673156ff66764580906659d9406dacf1",
      "max": 3248,
      "min": 0,
      "orientation": "horizontal",
      "style": "IPY_MODEL_58187ffa8ed64b2f9440d8c345d01d2e",
      "value": 3248
     }
    },
    "b4a6bc6a7aff4411818b3c6abe30493d": {
     "model_module": "@jupyter-widgets/controls",
     "model_module_version": "1.5.0",
     "model_name": "HTMLModel",
     "state": {
      "_dom_classes": [],
      "_model_module": "@jupyter-widgets/controls",
      "_model_module_version": "1.5.0",
      "_model_name": "HTMLModel",
      "_view_count": null,
      "_view_module": "@jupyter-widgets/controls",
      "_view_module_version": "1.5.0",
      "_view_name": "HTMLView",
      "description": "",
      "description_tooltip": null,
      "layout": "IPY_MODEL_1df51a5893554ffb986c2be24f03bcbb",
      "placeholder": "​",
      "style": "IPY_MODEL_97b153d6570246a7bfe74a982c5375f8",
      "value": "Map: 100%"
     }
    },
    "c9725eab57c9428d8e3c7783590db05e": {
     "model_module": "@jupyter-widgets/controls",
     "model_module_version": "1.5.0",
     "model_name": "DescriptionStyleModel",
     "state": {
      "_model_module": "@jupyter-widgets/controls",
      "_model_module_version": "1.5.0",
      "_model_name": "DescriptionStyleModel",
      "_view_count": null,
      "_view_module": "@jupyter-widgets/base",
      "_view_module_version": "1.2.0",
      "_view_name": "StyleView",
      "description_width": ""
     }
    },
    "e0b92d14b36d43179bdd59c625902c43": {
     "model_module": "@jupyter-widgets/controls",
     "model_module_version": "1.5.0",
     "model_name": "DescriptionStyleModel",
     "state": {
      "_model_module": "@jupyter-widgets/controls",
      "_model_module_version": "1.5.0",
      "_model_name": "DescriptionStyleModel",
      "_view_count": null,
      "_view_module": "@jupyter-widgets/base",
      "_view_module_version": "1.2.0",
      "_view_name": "StyleView",
      "description_width": ""
     }
    },
    "e71996b06b5343cb962d02185e0e0a9f": {
     "model_module": "@jupyter-widgets/controls",
     "model_module_version": "1.5.0",
     "model_name": "HBoxModel",
     "state": {
      "_dom_classes": [],
      "_model_module": "@jupyter-widgets/controls",
      "_model_module_version": "1.5.0",
      "_model_name": "HBoxModel",
      "_view_count": null,
      "_view_module": "@jupyter-widgets/controls",
      "_view_module_version": "1.5.0",
      "_view_name": "HBoxView",
      "box_style": "",
      "children": [
       "IPY_MODEL_b4a6bc6a7aff4411818b3c6abe30493d",
       "IPY_MODEL_aeea1795609946318f9c7c3dec7f2af1",
       "IPY_MODEL_156b446a7df941d2bcfd43d38e41c981"
      ],
      "layout": "IPY_MODEL_0fab6af844e34779888c8045fc4731f0"
     }
    },
    "e77a81c86b5e4e438e7a4a74f3985424": {
     "model_module": "@jupyter-widgets/base",
     "model_module_version": "1.2.0",
     "model_name": "LayoutModel",
     "state": {
      "_model_module": "@jupyter-widgets/base",
      "_model_module_version": "1.2.0",
      "_model_name": "LayoutModel",
      "_view_count": null,
      "_view_module": "@jupyter-widgets/base",
      "_view_module_version": "1.2.0",
      "_view_name": "LayoutView",
      "align_content": null,
      "align_items": null,
      "align_self": null,
      "border": null,
      "bottom": null,
      "display": null,
      "flex": null,
      "flex_flow": null,
      "grid_area": null,
      "grid_auto_columns": null,
      "grid_auto_flow": null,
      "grid_auto_rows": null,
      "grid_column": null,
      "grid_gap": null,
      "grid_row": null,
      "grid_template_areas": null,
      "grid_template_columns": null,
      "grid_template_rows": null,
      "height": null,
      "justify_content": null,
      "justify_items": null,
      "left": null,
      "margin": null,
      "max_height": null,
      "max_width": null,
      "min_height": null,
      "min_width": null,
      "object_fit": null,
      "object_position": null,
      "order": null,
      "overflow": null,
      "overflow_x": null,
      "overflow_y": null,
      "padding": null,
      "right": null,
      "top": null,
      "visibility": null,
      "width": null
     }
    },
    "f5664f21a2cd47d88566ca0c8b964632": {
     "model_module": "@jupyter-widgets/controls",
     "model_module_version": "1.5.0",
     "model_name": "HBoxModel",
     "state": {
      "_dom_classes": [],
      "_model_module": "@jupyter-widgets/controls",
      "_model_module_version": "1.5.0",
      "_model_name": "HBoxModel",
      "_view_count": null,
      "_view_module": "@jupyter-widgets/controls",
      "_view_module_version": "1.5.0",
      "_view_name": "HBoxView",
      "box_style": "",
      "children": [
       "IPY_MODEL_a50e518f0fb64e518e8b936ed7e3319d",
       "IPY_MODEL_8ab98678a8f4448aa283ab8b1a5a3a38",
       "IPY_MODEL_39d393b3a1d94b029c07cdcec7b00273"
      ],
      "layout": "IPY_MODEL_06dd61b7120748e8bd4e019b89e1bbd8"
     }
    },
    "f95404b04d4e4e20ab282d6ef6479682": {
     "model_module": "@jupyter-widgets/controls",
     "model_module_version": "1.5.0",
     "model_name": "DescriptionStyleModel",
     "state": {
      "_model_module": "@jupyter-widgets/controls",
      "_model_module_version": "1.5.0",
      "_model_name": "DescriptionStyleModel",
      "_view_count": null,
      "_view_module": "@jupyter-widgets/base",
      "_view_module_version": "1.2.0",
      "_view_name": "StyleView",
      "description_width": ""
     }
    }
   }
  }
 },
 "nbformat": 4,
 "nbformat_minor": 1
}
